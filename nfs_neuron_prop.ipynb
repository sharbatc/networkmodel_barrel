{
 "cells": [
  {
   "cell_type": "markdown",
   "metadata": {},
   "source": [
    "## Testing the electrophysiological properties : NFS neurons"
   ]
  },
  {
   "cell_type": "code",
   "execution_count": 1,
   "metadata": {},
   "outputs": [],
   "source": [
    "%matplotlib notebook\n",
    "\n",
    "import brian2 as b2\n",
    "import numpy\n",
    "import random\n",
    "import matplotlib.pyplot as plt\n",
    "import pandas as pd\n",
    "import datetime\n",
    "\n",
    "from input_factory import get_step_current, get_ou_current\n",
    "from plot_tools import plot_voltage_and_current_traces"
   ]
  },
  {
   "cell_type": "code",
   "execution_count": 2,
   "metadata": {},
   "outputs": [],
   "source": [
    "model_eqs = '''\n",
    "dv/dt = (-gL*(v-v_rest) - w1 - w2 + I_ext(t))/C : volt\n",
    "\n",
    "dw1/dt = -w1/tau_w1 : amp\n",
    "dw2/dt = -w2/tau_w2 : amp\n",
    "\n",
    "dvt1/dt = -vt1/tau_vt1 : volt\n",
    "dvt2/dt = -vt2/tau_vt2 : volt\n",
    " \n",
    "vt = v_thresh + vt1 + vt2 : volt\n",
    "lambda_t = lambda_0*exp((v-vt)/del_v): Hz\n",
    "'''\n",
    "reset_eqs = '''\n",
    "v = v_reset\n",
    "w1+=amp_w1\n",
    "w2+=amp_w2\n",
    "vt1+=amp_vt1\n",
    "vt2+=amp_vt2\n",
    "'''"
   ]
  },
  {
   "cell_type": "code",
   "execution_count": 3,
   "metadata": {},
   "outputs": [],
   "source": [
    "nfs_df = pd.read_csv('data/nfs.txt',header = None)\n",
    "nfs_df.columns =['C (nF)','gL (usiemens)','v_rest (mV)','v_reset (mV)','tau_refr (ms)',\\\n",
    "             'v_thresh (mV)','del_v (mV)', 'amp_w1 (nA)','tau_w1 (ms)','amp_w2 (nA)',\\\n",
    "             'tau_w2 (ms)','amp_vt1 (mV)','tau_vt1 (ms)','amp_vt2 (mV)','tau_vt2 (ms)']\n",
    "fs_df = pd.read_csv('data/fs.txt',header = None)\n",
    "fs_df.columns =['C (nF)','gL (usiemens)','v_rest (mV)','v_reset (mV)','tau_refr (ms)',\\\n",
    "             'v_thresh (mV)','del_v (mV)', 'amp_w1 (nA)','tau_w1 (ms)','amp_w2 (nA)',\\\n",
    "             'tau_w2 (ms)','amp_vt1 (mV)','tau_vt1 (ms)','amp_vt2 (mV)','tau_vt2 (ms)']"
   ]
  },
  {
   "cell_type": "code",
   "execution_count": 4,
   "metadata": {},
   "outputs": [],
   "source": [
    "nfs_df"
   ]
  },
  {
   "cell_type": "code",
   "execution_count": 5,
   "metadata": {},
   "outputs": [],
   "source": [
    "print('R_in_nfs',1/nfs_df.iloc[0,:][1])\n",
    "print('tau_nfs',nfs_df.iloc[0,:][0]/nfs_df.iloc[0,:][1])"
   ]
  },
  {
   "cell_type": "code",
   "execution_count": 6,
   "metadata": {},
   "outputs": [],
   "source": [
    "b2.start_scope()\n",
    "nfs_param = nfs_df.iloc[0,:] #set which value to try out, set any if running through all\n",
    "C = nfs_param['C (nF)'] * b2.nF\n",
    "gL = nfs_param['gL (usiemens)'] * b2.usiemens\n",
    "v_rest = nfs_param['v_rest (mV)'] * b2.mV\n",
    "v_reset = nfs_param['v_reset (mV)'] * b2.mV\n",
    "tau_refr = nfs_param['tau_refr (ms)'] * b2.ms\n",
    "\n",
    "v_thresh = nfs_param['v_thresh (mV)'] * b2.mV\n",
    "del_v = nfs_param['del_v (mV)'] * b2.mV\n",
    "amp_w1 = nfs_param['amp_w1 (nA)'] * b2.nA\n",
    "tau_w1 = nfs_param['tau_w1 (ms)'] * b2.ms\n",
    "amp_w2 = nfs_param['amp_w2 (nA)'] * b2.nA\n",
    "tau_w2 = nfs_param['tau_w2 (ms)'] * b2.ms\n",
    "\n",
    "amp_vt1 = nfs_param['amp_vt1 (mV)'] * b2.mV\n",
    "tau_vt1 = nfs_param['tau_vt1 (ms)'] * b2.ms\n",
    "amp_vt2 = nfs_param['amp_vt2 (mV)'] * b2.mV\n",
    "tau_vt2 = nfs_param['tau_vt2 (ms)'] * b2.ms"
   ]
  },
  {
   "cell_type": "code",
   "execution_count": 7,
   "metadata": {},
   "outputs": [],
   "source": [
    "## amplitude to be played with \n",
    "# I_ext = get_step_current(t_start = 100, t_end = 700, unit_time = 1*b2.ms, amplitude = 0.08*b2.namp)\n",
    "I_ext = get_ou_current(1,Delta_sigma=2.0,sigma_0=10.0)\n",
    "rate_0 = b2.defaultclock.dt/b2.ms * b2.Hz\n",
    "time = 1000 * b2.ms\n",
    "lambda_0 = 10 * b2.kHz\n",
    "VIP = b2.NeuronGroup(1, model = model_eqs, reset = reset_eqs, threshold = \"v > vt\",refractory = tau_refr, method = 'rk4')\n",
    "VIP.v = v_rest\n",
    "voltage_monitor_vip = b2.StateMonitor(VIP, ['v','vt','w1','w2'], record=True)\n",
    "spike_monitor_vip = b2.SpikeMonitor(VIP)\n",
    "\n",
    "vip_monitors = [voltage_monitor_vip, spike_monitor_vip]\n",
    "print(\"Before simulation\" , datetime.datetime.now())\n",
    "\n",
    "vip_net = b2.Network(VIP)\n",
    "vip_net.add(vip_monitors)\n",
    "vip_net.run(time)\n",
    "\n",
    "print(\"After simulation\" , datetime.datetime.now())"
   ]
  },
  {
   "cell_type": "code",
   "execution_count": 8,
   "metadata": {},
   "outputs": [],
   "source": [
    "fig2 = plt.figure(figsize=(5,10))\n",
    "plot_voltage_and_current_traces(voltage_monitor_vip, spike_monitor_vip, I_ext,title = 'NFS neuron')\n",
    "plt.show()"
   ]
  },
  {
   "cell_type": "code",
   "execution_count": 9,
   "metadata": {},
   "outputs": [],
   "source": [
    "# fig2.savefig('../figs/25_nfsou.jpg')"
   ]
  },
  {
   "cell_type": "code",
   "execution_count": null,
   "metadata": {},
   "outputs": [],
   "source": []
  }
 ],
 "metadata": {
  "kernelspec": {
   "display_name": "Python 3",
   "language": "python",
   "name": "python3"
  },
  "language_info": {
   "codemirror_mode": {
    "name": "ipython",
    "version": 3
   },
   "file_extension": ".py",
   "mimetype": "text/x-python",
   "name": "python",
   "nbconvert_exporter": "python",
   "pygments_lexer": "ipython3",
   "version": "3.6.4"
  }
 },
 "nbformat": 4,
 "nbformat_minor": 2
}
