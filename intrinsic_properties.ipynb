{
 "cells": [
  {
   "cell_type": "code",
   "execution_count": 1,
   "metadata": {},
   "outputs": [],
   "source": [
    "# credits to neurodynex, EPFL for some of the reused code\n",
    "# note : change to b2. instead of * everywhere\n",
    "# single neuron tests, started by Sharbat\n",
    "\n",
    "import numpy\n",
    "import matplotlib.pyplot as plt\n",
    "from brian2 import *"
   ]
  },
  {
   "cell_type": "code",
   "execution_count": null,
   "metadata": {},
   "outputs": [],
   "source": [
    "voltage_mon = StateMonitor(G,'v', record=True)\n",
    "run(100*ms)\n",
    "plot(voltage_mon.t/ms, voltage_mon.v[0])\n",
    "xlabel('Time (ms)')\n",
    "ylabel('v');"
   ]
  },
  {
   "cell_type": "code",
   "execution_count": 2,
   "metadata": {},
   "outputs": [],
   "source": [
    "def plot_voltage_and_current_traces(voltage_monitor, current, title=None, firing_threshold=None, legend_location=0):\n",
    "    \"\"\"plots voltage and current .\n",
    "    Args:\n",
    "        voltage_monitor (StateMonitor): recorded voltage\n",
    "        current (TimedArray): injected current\n",
    "        title (string, optional): title of the figure\n",
    "        firing_threshold (Quantity, optional): if set to a value, the firing threshold is plotted.\n",
    "        legend_location (int): legend location. default = 0 (=\"best\")\n",
    "    Returns:\n",
    "        the figure\n",
    "    \"\"\"\n",
    "\n",
    "    assert isinstance(voltage_monitor, StateMonitor), \"voltage_monitor is not of type StateMonitor\"\n",
    "    assert isinstance(current, TimedArray), \"current is not of type TimedArray\"\n",
    "\n",
    "    time_values_ms = voltage_monitor.t / ms\n",
    "\n",
    "    # current\n",
    "    axis_c = plt.subplot(211)\n",
    "    c = current(voltage_monitor.t, 0)\n",
    "    max_current = max(current(voltage_monitor.t, 0))\n",
    "    min_current = min(current(voltage_monitor.t, 0))\n",
    "    margin = 1.05 * (max_current - min_current)\n",
    "    # plot the input current time-aligned with the voltage monitor\n",
    "    plt.plot(voltage_monitor.t / ms, c, \"r\", lw=2)\n",
    "    if margin > 0.:\n",
    "        plt.ylim((min_current - margin) / amp, (max_current + margin) / amp)\n",
    "    # plt.xlabel(\"t [ms]\")\n",
    "    plt.ylabel(\"Input current [A] \\n min: {0} \\nmax: {1}\".format(min_current, max_current))\n",
    "    plt.grid()\n",
    "    axis_v = plt.subplot(212)\n",
    "    plt.plot(time_values_ms, voltage_monitor[0].v / mV, lw=2)\n",
    "    if firing_threshold is not None:\n",
    "        plt.plot(\n",
    "            (voltage_monitor.t / ms)[[0, -1]],\n",
    "            [firing_threshold / mV, firing_threshold / mV],\n",
    "            \"r--\", lw=2\n",
    "        )\n",
    "    max_val = max(voltage_monitor[0].v)\n",
    "    if firing_threshold is not None:\n",
    "        max_val = max(max_val, firing_threshold)\n",
    "    min_val = min(voltage_monitor[0].v)\n",
    "    margin = 0.05 * (max_val - min_val)\n",
    "    plt.ylim((min_val - margin) / mV, (max_val + margin) / mV)\n",
    "    plt.xlabel(\"t [ms]\")\n",
    "    plt.ylabel(\"membrane voltage [mV]\\n min: {0}\\n max: {1}\".format(min_val, max_val))\n",
    "    plt.grid()\n",
    "\n",
    "    if firing_threshold is not None:\n",
    "        plt.legend([\"vm\", \"firing threshold\"], fontsize=12, loc=legend_location)\n",
    "\n",
    "    if title is not None:\n",
    "        plt.suptitle(title)\n",
    "    return axis_c, axis_v"
   ]
  },
  {
   "cell_type": "code",
   "execution_count": 3,
   "metadata": {},
   "outputs": [],
   "source": [
    "defaultclock.dt = 0.1 * ms\n",
    "time = 1000 * ms\n",
    "param_set_exc = 3\n",
    "param_set_inh = 1 #nfs/fs and otehrs like pv/sst/vip to be seen later"
   ]
  },
  {
   "cell_type": "code",
   "execution_count": 4,
   "metadata": {},
   "outputs": [],
   "source": [
    "exc_param = numpy.loadtxt('data/exc.txt', delimiter = ',')[param_set_exc]"
   ]
  },
  {
   "cell_type": "code",
   "execution_count": 5,
   "metadata": {},
   "outputs": [],
   "source": [
    "# w = eta\n",
    "# vt= gamma\n",
    "\n",
    "rate0_1 = defaultclock.dt/ms * Hz\n",
    "\n",
    "stimulus = TimedArray(np.hstack([[c, c, c, 0, 0]\n",
    "                                 for c in np.random.rand(1000)]),\n",
    "                                dt=10*ms)\n",
    "\n",
    "eqs_1 = '''\n",
    "dv/dt = (-gl_1*(v-El_1)-w1-w2+stimulus(t,i)*namp)/C_1 : volt\n",
    "dw1/dt = -w1/tau_w1_1 : amp\n",
    "dw2/dt = -w2/tau_w2_1 : amp\n",
    "dvt1/dt = -vt1/tau_vt1_1 : volt\n",
    "dvt2/dt = -vt2/tau_vt2_1 : volt\n",
    "vt = v0_1 + vt1 + vt2 : volt\n",
    "rate = rate0_1*exp((v-vt)/deltaV_1): Hz\n",
    "\n",
    "I: amp\n",
    "C_1 :farad\n",
    "gl_1 :siemens\n",
    "El_1 :volt\n",
    "v0_1 :volt\n",
    "deltaV_1 :volt\n",
    "tau_ref_1 :second\n",
    "v_reset_1 :volt\n",
    "rate0_1 :Hz\n",
    "amp_w1_1 :amp\n",
    "tau_w1_1 :second\n",
    "amp_w2_1 :amp\n",
    "tau_w2_1 :second\n",
    "\n",
    "\n",
    "amp_vt1_1 :volt\n",
    "tau_vt1_1 :second\n",
    "amp_vt2_1 :volt\n",
    "tau_vt2_1 :second\n",
    "\n",
    "'''\n",
    "\n",
    "reset_1='''\n",
    "v=v_reset_1\n",
    "w1+=amp_w1_1\n",
    "w2+=amp_w2_1\n",
    "vt1+=amp_vt1_1\n",
    "vt2+=amp_vt2_1\n",
    "'''"
   ]
  },
  {
   "cell_type": "code",
   "execution_count": 6,
   "metadata": {},
   "outputs": [],
   "source": [
    "EXC = NeuronGroup(1, model=eqs_1, reset = reset_1, \n",
    "                      threshold ='rand()<rate*dt', refractory = exc_param[4]*ms)\n",
    "EXC.C_1 = exc_param[0] * nF\n",
    "EXC.gl_1 = exc_param[1] * uS\n",
    "EXC.El_1 = exc_param[2] * mV\n",
    "EXC.v_reset_1 = exc_param[3] * mV\n",
    "EXC.tau_ref_1 = exc_param[4] * ms\n",
    "EXC.v0_1 = exc_param[5] * mV\n",
    "EXC.deltaV_1 = exc_param[6] * mV\n",
    "EXC.amp_w1_1 = exc_param[7] * nA\n",
    "EXC.tau_w1_1 = exc_param[8] * ms\n",
    "EXC.amp_w2_1 = exc_param[9] * nA\n",
    "EXC.tau_w2_1 = exc_param[10] * ms\n",
    "\n",
    "EXC.amp_vt1_1 = exc_param[11] * mV\n",
    "EXC.tau_vt1_1 = exc_param[12] * ms\n",
    "EXC.amp_vt2_1 = exc_param[13] * mV\n",
    "EXC.tau_vt2_1 = exc_param[14] * ms\n",
    "\n",
    "EXC.rate0_1 = defaultclock.dt/ms * Hz\n",
    "\n",
    "# amp = 0.2*namp\n",
    "# current = np.zeros(int(time))*namp\n",
    "# current[10:80] = amp\n",
    "\n",
    "# myI = TimedArray(current,dt=1*ms)\n",
    "\n",
    "# EXC.I = myI#0.2 * nA\n",
    "EXC.v = -60*mV#EXC.El_1"
   ]
  },
  {
   "cell_type": "code",
   "execution_count": 7,
   "metadata": {},
   "outputs": [],
   "source": [
    "voltage_mon = StateMonitor(EXC,'v', record=True)"
   ]
  },
  {
   "cell_type": "code",
   "execution_count": 8,
   "metadata": {},
   "outputs": [
    {
     "name": "stdout",
     "output_type": "stream",
     "text": [
      "Before v = -60. mV\n"
     ]
    },
    {
     "ename": "BrianObjectException",
     "evalue": "Original error and traceback:\nTraceback (most recent call last):\n  File \"/anaconda3/lib/python3.6/site-packages/brian2/core/network.py\", line 841, in before_run\n    obj.before_run(run_namespace)\n  File \"/anaconda3/lib/python3.6/site-packages/brian2/groups/neurongroup.py\", line 800, in before_run\n    self.equations.check_units(self, run_namespace=run_namespace)\n  File \"/anaconda3/lib/python3.6/site-packages/brian2/equations/equations.py\", line 952, in check_units\n    all_variables)\n  File \"/anaconda3/lib/python3.6/site-packages/brian2/equations/unitcheck.py\", line 40, in check_dimensions\n    expr_dims = parse_expression_dimensions(expression, variables)\n  File \"/anaconda3/lib/python3.6/site-packages/brian2/parsing/expressions.py\", line 315, in parse_expression_dimensions\n    left_dim = parse_expression_dimensions(expr.left, variables)\n  File \"/anaconda3/lib/python3.6/site-packages/brian2/parsing/expressions.py\", line 316, in parse_expression_dimensions\n    right_dim = parse_expression_dimensions(expr.right, variables)\n  File \"/anaconda3/lib/python3.6/site-packages/brian2/parsing/expressions.py\", line 315, in parse_expression_dimensions\n    left_dim = parse_expression_dimensions(expr.left, variables)\n  File \"/anaconda3/lib/python3.6/site-packages/brian2/parsing/expressions.py\", line 278, in parse_expression_dimensions\n    len(func._arg_units)))\n  File \"<string>\", line None\nSyntaxError: Function stimulus was called with 2 parameters, needs 1.\n\nError encountered with object named \"neurongroup\".\nObject was created here (most recent call only, full details in debug log):\n  File \"<ipython-input-6-6b105db2b13c>\", line 2, in <module>\n    threshold ='rand()<rate*dt', refractory = exc_param[4]*ms)\n\nAn error occurred when preparing an object.   File \"<string>\", line None\n\nSyntaxError: Function stimulus was called with 2 parameters, needs 1.\n(See above for original error message and traceback.)",
     "output_type": "error",
     "traceback": [
      "Traceback \u001b[0;36m(most recent call last)\u001b[0m:\n",
      "  File \u001b[1;32m\"/anaconda3/lib/python3.6/site-packages/IPython/core/interactiveshell.py\"\u001b[0m, line \u001b[1;32m2910\u001b[0m, in \u001b[1;35mrun_code\u001b[0m\n    exec(code_obj, self.user_global_ns, self.user_ns)\n",
      "  File \u001b[1;32m\"<ipython-input-8-0828778d292c>\"\u001b[0m, line \u001b[1;32m2\u001b[0m, in \u001b[1;35m<module>\u001b[0m\n    run(time)\n",
      "  File \u001b[1;32m\"/anaconda3/lib/python3.6/site-packages/brian2/units/fundamentalunits.py\"\u001b[0m, line \u001b[1;32m2360\u001b[0m, in \u001b[1;35mnew_f\u001b[0m\n    result = f(*args, **kwds)\n",
      "  File \u001b[1;32m\"/anaconda3/lib/python3.6/site-packages/brian2/core/magic.py\"\u001b[0m, line \u001b[1;32m371\u001b[0m, in \u001b[1;35mrun\u001b[0m\n    namespace=namespace, profile=profile, level=2+level)\n",
      "  File \u001b[1;32m\"/anaconda3/lib/python3.6/site-packages/brian2/core/magic.py\"\u001b[0m, line \u001b[1;32m231\u001b[0m, in \u001b[1;35mrun\u001b[0m\n    namespace=namespace, profile=profile, level=level+1)\n",
      "  File \u001b[1;32m\"/anaconda3/lib/python3.6/site-packages/brian2/core/base.py\"\u001b[0m, line \u001b[1;32m278\u001b[0m, in \u001b[1;35mdevice_override_decorated_function\u001b[0m\n    return func(*args, **kwds)\n",
      "  File \u001b[1;32m\"/anaconda3/lib/python3.6/site-packages/brian2/units/fundamentalunits.py\"\u001b[0m, line \u001b[1;32m2360\u001b[0m, in \u001b[1;35mnew_f\u001b[0m\n    result = f(*args, **kwds)\n",
      "  File \u001b[1;32m\"/anaconda3/lib/python3.6/site-packages/brian2/core/network.py\"\u001b[0m, line \u001b[1;32m951\u001b[0m, in \u001b[1;35mrun\u001b[0m\n    self.before_run(namespace)\n",
      "  File \u001b[1;32m\"/anaconda3/lib/python3.6/site-packages/brian2/core/base.py\"\u001b[0m, line \u001b[1;32m278\u001b[0m, in \u001b[1;35mdevice_override_decorated_function\u001b[0m\n    return func(*args, **kwds)\n",
      "\u001b[0;36m  File \u001b[0;32m\"/anaconda3/lib/python3.6/site-packages/brian2/core/network.py\"\u001b[0;36m, line \u001b[0;32m843\u001b[0;36m, in \u001b[0;35mbefore_run\u001b[0;36m\u001b[0m\n\u001b[0;31m    raise brian_object_exception(\"An error occurred when preparing an object.\", obj, ex)\u001b[0m\n",
      "\u001b[0;36m  File \u001b[0;32m\"<string>\"\u001b[0;36m, line \u001b[0;32munknown\u001b[0m\n\u001b[0;31mBrianObjectException\u001b[0m\n"
     ]
    }
   ],
   "source": [
    "print('Before v = %s' % EXC.v[0])\n",
    "run(time)\n",
    "print('After v = %s' % EXC.v[0])"
   ]
  },
  {
   "cell_type": "code",
   "execution_count": null,
   "metadata": {},
   "outputs": [],
   "source": [
    "voltage_mon.t"
   ]
  },
  {
   "cell_type": "code",
   "execution_count": null,
   "metadata": {
    "scrolled": true
   },
   "outputs": [],
   "source": [
    "plot(voltage_mon.t/ms, voltage_mon.v[0])\n",
    "xlabel('Time (ms)')\n",
    "ylabel('v');"
   ]
  },
  {
   "cell_type": "code",
   "execution_count": null,
   "metadata": {},
   "outputs": [],
   "source": [
    "plot_voltage_and_current_traces(voltage_monitor, I_ext, title='step_current')"
   ]
  },
  {
   "cell_type": "code",
   "execution_count": null,
   "metadata": {},
   "outputs": [],
   "source": [
    "t_start = 10\n",
    "t_end = 80\n",
    "tmp_size = 10 + t_end  # +1 for t=0\n",
    "tmp = np.zeros((tmp_size, 1)) \n",
    "tmp[t_start: t_end + 1, 0] = 100"
   ]
  },
  {
   "cell_type": "code",
   "execution_count": null,
   "metadata": {},
   "outputs": [],
   "source": [
    "tau = 10*ms\n",
    "runtime = 1*second\n",
    "stimulus = TimedArray(np.random.rand(int(runtime/defaultclock.dt), 2),\n",
    "                      dt=defaultclock.dt)\n",
    "\n",
    "G = NeuronGroup(1, model=eqs_simple, reset = reset_simple, \n",
    "                      threshold ='rand()<rate*dt', refractory = exc_param[4]*ms)\n",
    "\n",
    "M = StateMonitor(G, 'v', record=True)\n",
    "print('Before v = %s' % G.v[0])\n",
    "run(100*ms)\n",
    "print('After v = %s' % G.v[0])\n",
    "plot(M.t/ms, M.v[0])\n",
    "xlabel('Time (ms)')\n",
    "ylabel('v');"
   ]
  },
  {
   "cell_type": "code",
   "execution_count": null,
   "metadata": {},
   "outputs": [],
   "source": []
  },
  {
   "cell_type": "code",
   "execution_count": null,
   "metadata": {},
   "outputs": [],
   "source": []
  }
 ],
 "metadata": {
  "kernelspec": {
   "display_name": "Python 3",
   "language": "python",
   "name": "python3"
  },
  "language_info": {
   "codemirror_mode": {
    "name": "ipython",
    "version": 3
   },
   "file_extension": ".py",
   "mimetype": "text/x-python",
   "name": "python",
   "nbconvert_exporter": "python",
   "pygments_lexer": "ipython3",
   "version": "3.6.4"
  }
 },
 "nbformat": 4,
 "nbformat_minor": 2
}
