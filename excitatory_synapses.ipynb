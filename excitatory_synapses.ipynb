{
 "cells": [
  {
   "cell_type": "markdown",
   "metadata": {},
   "source": [
    "## Testing excitatory synapses "
   ]
  },
  {
   "cell_type": "code",
   "execution_count": 1,
   "metadata": {},
   "outputs": [],
   "source": [
    "%matplotlib notebook\n",
    "\n",
    "import brian2 as b2\n",
    "import numpy as np\n",
    "import random\n",
    "import matplotlib.pyplot as plt\n",
    "import pandas as pd\n",
    "import datetime\n",
    "import preprocessing\n",
    "\n",
    "from input_factory import get_step_current\n",
    "from plot_tools import plot_voltage_and_current_traces"
   ]
  },
  {
   "cell_type": "code",
   "execution_count": 2,
   "metadata": {},
   "outputs": [],
   "source": [
    "# reversal potential for conductance based synapses\n",
    "E_exc = 0 * b2.mV\n",
    "E_inh = -80 * b2.mV"
   ]
  },
  {
   "cell_type": "code",
   "execution_count": 3,
   "metadata": {},
   "outputs": [],
   "source": [
    "model_eqs_exc = '''\n",
    "dv/dt = (-gL_exc*(v-v_rest_exc) - w1 - w2 + I)/C_exc : volt\n",
    "\n",
    "dw1/dt = -w1/tau_w1_exc : amp\n",
    "dw2/dt = -w2/tau_w2_exc : amp\n",
    "\n",
    "dvt1/dt = -vt1/tau_vt1_exc : volt\n",
    "dvt2/dt = -vt2/tau_vt2_exc : volt\n",
    "\n",
    "vt = v_thresh_exc + vt1 + vt2 : volt\n",
    "lambda_t = lambda_0*exp((v-vt)/del_v_exc): Hz\n",
    "\n",
    "I = I_syn : amp\n",
    "I_syn = I_exc + I_inh : amp\n",
    "I_exc = -g_exc*(v-E_exc) : amp\n",
    "I_inh = g_inh*(v-E_inh) : amp\n",
    "\n",
    "dg_exc/dt = -g_exc/tau_exc_exc : siemens\n",
    "dg_inh/dt = -g_inh/tau_inh_exc : siemens\n",
    "'''\n",
    "reset_eqs_exc = '''\n",
    "v = v_reset_exc\n",
    "w1+=amp_w1_exc\n",
    "w2+=amp_w2_exc\n",
    "vt1+=amp_vt1_exc\n",
    "vt2+=amp_vt2_exc\n",
    "'''"
   ]
  },
  {
   "cell_type": "code",
   "execution_count": 4,
   "metadata": {},
   "outputs": [],
   "source": [
    "exc_df = pd.read_csv('data/exc.txt',header = None)\n",
    "exc_df.columns =['C (nF)','gL (usiemens)','v_rest (mV)','v_reset (mV)','tau_refr (ms)',\\\n",
    "             'v_thresh (mV)','del_v (mV)', 'amp_w1 (nA)','tau_w1 (ms)','amp_w2 (nA)',\\\n",
    "             'tau_w2 (ms)','amp_vt1 (mV)','tau_vt1 (ms)','amp_vt2 (mV)','tau_vt2 (ms)']\n",
    "\n",
    "exc_param = exc_df.iloc[0,:] \n",
    "lambda_0 = 10 * b2.kHz\n",
    "\n",
    "C_exc = exc_param['C (nF)'] * b2.nF\n",
    "gL_exc = exc_param['gL (usiemens)'] * b2.usiemens\n",
    "v_rest_exc = exc_param['v_rest (mV)'] * b2.mV\n",
    "v_reset_exc = exc_param['v_reset (mV)'] * b2.mV\n",
    "tau_refr_exc = exc_param['tau_refr (ms)'] * b2.ms\n",
    "\n",
    "v_thresh_exc = exc_param['v_thresh (mV)'] * b2.mV\n",
    "del_v_exc = exc_param['del_v (mV)'] * b2.mV\n",
    "# del_v = 0.1 * b2.mV\n",
    "amp_w1_exc = exc_param['amp_w1 (nA)'] * b2.nA\n",
    "tau_w1_exc = exc_param['tau_w1 (ms)'] * b2.ms\n",
    "amp_w2_exc = exc_param['amp_w2 (nA)'] * b2.nA\n",
    "tau_w2_exc = exc_param['tau_w2 (ms)'] * b2.ms\n",
    "\n",
    "amp_vt1_exc = exc_param['amp_vt1 (mV)'] * b2.mV\n",
    "tau_vt1_exc = exc_param['tau_vt1 (ms)'] * b2.ms\n",
    "amp_vt2_exc = exc_param['amp_vt2 (mV)'] * b2.mV\n",
    "tau_vt2_exc = exc_param['tau_vt2 (ms)'] * b2.ms"
   ]
  },
  {
   "cell_type": "code",
   "execution_count": 5,
   "metadata": {},
   "outputs": [],
   "source": [
    "model_eqs_pv = '''\n",
    "dv/dt = (-gL_pv*(v-v_rest_pv) - w1 - w2 + I)/C_pv : volt\n",
    "\n",
    "dw1/dt = -w1/tau_w1_pv : amp\n",
    "dw2/dt = -w2/tau_w2_exc : amp\n",
    "\n",
    "dvt1/dt = -vt1/tau_vt1_pv : volt\n",
    "dvt2/dt = -vt2/tau_vt2_pv : volt\n",
    "\n",
    "vt = v_thresh_pv + vt1 + vt2 : volt\n",
    "lambda_t = lambda_0*exp((v-vt)/del_v_pv): Hz\n",
    "\n",
    "I = I_syn : amp\n",
    "I_syn = I_exc + I_inh : amp\n",
    "I_exc = -g_exc*(v-E_exc) : amp\n",
    "I_inh = -g_inh*(v-E_inh) : amp\n",
    "\n",
    "dg_exc/dt = -g_exc/tau_exc_inh : siemens\n",
    "dg_inh/dt = -g_inh/tau_inh_inh : siemens\n",
    "'''\n",
    "reset_eqs_pv = '''\n",
    "v = v_reset_pv\n",
    "w1+=amp_w1_pv\n",
    "w2+=amp_w2_pv\n",
    "vt1+=amp_vt1_pv\n",
    "vt2+=amp_vt2_pv\n",
    "'''"
   ]
  },
  {
   "cell_type": "code",
   "execution_count": 6,
   "metadata": {},
   "outputs": [],
   "source": [
    "fs_df = pd.read_csv('data/fs.txt',header = None)\n",
    "fs_df.columns =['C (nF)','gL (usiemens)','v_rest (mV)','v_reset (mV)','tau_refr (ms)',\\\n",
    "             'v_thresh (mV)','del_v (mV)', 'amp_w1 (nA)','tau_w1 (ms)','amp_w2 (nA)',\\\n",
    "             'tau_w2 (ms)','amp_vt1 (mV)','tau_vt1 (ms)','amp_vt2 (mV)','tau_vt2 (ms)']\n",
    "fs_param = fs_df.iloc[0,:] \n",
    "C_pv = fs_param['C (nF)'] * b2.nF\n",
    "gL_pv = fs_param['gL (usiemens)'] * b2.usiemens\n",
    "v_rest_pv = fs_param['v_rest (mV)'] * b2.mV\n",
    "v_reset_pv = fs_param['v_reset (mV)'] * b2.mV\n",
    "tau_refr_pv = fs_param['tau_refr (ms)'] * b2.ms\n",
    "\n",
    "v_thresh_pv = fs_param['v_thresh (mV)'] * b2.mV\n",
    "del_v_pv = fs_param['del_v (mV)'] * b2.mV\n",
    "\n",
    "amp_w1_pv = fs_param['amp_w1 (nA)'] * b2.nA\n",
    "tau_w1_pv = fs_param['tau_w1 (ms)'] * b2.ms\n",
    "amp_w2_pv = fs_param['amp_w2 (nA)'] * b2.nA\n",
    "tau_w2_pv = fs_param['tau_w2 (ms)'] * b2.ms\n",
    "\n",
    "amp_vt1_pv = fs_param['amp_vt1 (mV)'] * b2.mV\n",
    "tau_vt1_pv = fs_param['tau_vt1 (ms)'] * b2.ms\n",
    "amp_vt2_pv = fs_param['amp_vt2 (mV)'] * b2.mV\n",
    "tau_vt2_pv = fs_param['tau_vt2 (ms)'] * b2.ms"
   ]
  },
  {
   "cell_type": "code",
   "execution_count": 7,
   "metadata": {},
   "outputs": [],
   "source": [
    "tau_exc_exc, w_exc_exc = preprocessing.Fit_PSP(0.37, 26.2, C_exc/gL_exc/b2.ms, 1/gL_exc/b2.Mohm)\n",
    "tau_inh_exc, w_inh_exc = preprocessing.Fit_PSP(0.52, 43.1, C_exc/gL_exc/b2.ms, 1/gL_exc/b2.Mohm)\n",
    "tau_inh_inh, w_inh_inh = preprocessing.Fit_PSP(0.56, 15.8, C_pv/gL_pv/b2.ms, 1/gL_pv/b2.Mohm)\n",
    "tau_exc_inh, w_exc_inh = preprocessing.Fit_PSP(0.82, 13.7, C_pv/gL_pv/b2.ms, 1/gL_pv/b2.Mohm)"
   ]
  },
  {
   "cell_type": "code",
   "execution_count": 8,
   "metadata": {},
   "outputs": [
    {
     "data": {
      "text/plain": [
       "3.2000000000000002"
      ]
     },
     "execution_count": 8,
     "metadata": {},
     "output_type": "execute_result"
    }
   ],
   "source": [
    "tau_exc_inh"
   ]
  },
  {
   "cell_type": "code",
   "execution_count": 9,
   "metadata": {},
   "outputs": [
    {
     "data": {
      "text/plain": [
       "0.041977606042486952"
      ]
     },
     "execution_count": 9,
     "metadata": {},
     "output_type": "execute_result"
    }
   ],
   "source": [
    "w_exc_inh"
   ]
  },
  {
   "cell_type": "code",
   "execution_count": 10,
   "metadata": {},
   "outputs": [
    {
     "data": {
      "text/plain": [
       "9.39"
      ]
     },
     "execution_count": 10,
     "metadata": {},
     "output_type": "execute_result"
    }
   ],
   "source": [
    "C_pv/gL_pv/b2.ms"
   ]
  },
  {
   "cell_type": "code",
   "execution_count": 11,
   "metadata": {},
   "outputs": [
    {
     "data": {
      "text/plain": [
       "100.0"
      ]
     },
     "execution_count": 11,
     "metadata": {},
     "output_type": "execute_result"
    }
   ],
   "source": [
    "1/gL_pv/b2.Mohm"
   ]
  },
  {
   "cell_type": "code",
   "execution_count": 12,
   "metadata": {},
   "outputs": [
    {
     "data": {
      "text/plain": [
       "{'p': 0.69, 'tau_syn': 3.2000000000000002, 'w': 0.041977606042486952}"
      ]
     },
     "execution_count": 12,
     "metadata": {},
     "output_type": "execute_result"
    }
   ],
   "source": [
    "import params\n",
    "\n",
    "params.conn_param['L4_L4']['exc_fs']"
   ]
  },
  {
   "cell_type": "code",
   "execution_count": null,
   "metadata": {},
   "outputs": [],
   "source": [
    "params.neural_param['L4']['exc']['tau_m']"
   ]
  },
  {
   "cell_type": "code",
   "execution_count": null,
   "metadata": {},
   "outputs": [],
   "source": [
    "tau_exc_exc = tau_exc_exc * b2.ms\n",
    "tau_inh_exc = tau_inh_exc * b2.ms\n",
    "tau_inh_inh = tau_inh_inh * b2.ms\n",
    "tau_exc_inh = tau_exc_inh * b2.ms"
   ]
  },
  {
   "cell_type": "code",
   "execution_count": null,
   "metadata": {},
   "outputs": [],
   "source": [
    "w_exc_exc = preprocessing.CUBA_to_COBA(w_exc_exc*b2.nA, v_rest_exc, E_exc)\n",
    "w_exc_inh = preprocessing.CUBA_to_COBA(w_exc_inh*b2.nA, v_rest_pv, E_exc)\n",
    "w_inh_exc = preprocessing.CUBA_to_COBA(w_inh_exc*b2.nA, v_rest_exc, E_inh)\n",
    "w_inh_inh = preprocessing.CUBA_to_COBA(w_inh_inh*b2.nA, v_rest_pv, E_inh)"
   ]
  },
  {
   "cell_type": "code",
   "execution_count": null,
   "metadata": {},
   "outputs": [],
   "source": [
    "EXC = b2.NeuronGroup(1, model = model_eqs_exc, reset = reset_eqs_exc, threshold = \"v > vt\",refractory = 100*b2.ms, method = 'rk4')\n",
    "PV = b2.NeuronGroup(1, model = model_eqs_pv, reset = reset_eqs_pv, threshold = \"v > vt\", refractory = 100*b2.ms, method = 'rk4')"
   ]
  },
  {
   "cell_type": "code",
   "execution_count": null,
   "metadata": {},
   "outputs": [],
   "source": [
    "# syn_exc_exc = b2.Synapses(EXC, EXC, 'w : siemens', on_pre = 'g_exc += w')\n",
    "syn_exc_inh = b2.Synapses(EXC, PV, 'w : siemens', on_pre = 'g_exc += w')\n",
    "# syn_inh_exc = b2.Synapses(PV, EXC,'w : siemens', on_pre = 'g_inh += w')\n",
    "# syn_inh_inh = b2.Synapses(PV, PV, 'w : siemens',on_pre = 'g_inh += w')"
   ]
  },
  {
   "cell_type": "code",
   "execution_count": null,
   "metadata": {},
   "outputs": [],
   "source": [
    "# syn_exc_exc.connect(i = 0, j = 1)\n",
    "syn_exc_inh.connect(p=1)\n",
    "# syn_inh_exc.connect(p=1)\n",
    "# syn_inh_inh.connect(i = 2, j = 3 )"
   ]
  },
  {
   "cell_type": "code",
   "execution_count": null,
   "metadata": {},
   "outputs": [],
   "source": [
    "# syn_exc_exc.w = w_exc_exc\n",
    "syn_exc_inh.w = w_exc_inh\n",
    "# syn_inh_exc.w = w_inh_exc\n",
    "# syn_inh_inh.w = w_inh_inh"
   ]
  },
  {
   "cell_type": "code",
   "execution_count": null,
   "metadata": {},
   "outputs": [],
   "source": [
    "w_exc_inh"
   ]
  },
  {
   "cell_type": "code",
   "execution_count": null,
   "metadata": {},
   "outputs": [],
   "source": [
    "tau_exc_inh"
   ]
  },
  {
   "cell_type": "code",
   "execution_count": null,
   "metadata": {},
   "outputs": [],
   "source": [
    "voltage_monitor_EXC = b2.StateMonitor(EXC, ['v','vt'],record = True)\n",
    "voltage_monitor_PV = b2.StateMonitor(PV, ['v','vt'],record = True)\n",
    "spike_monitor_EXC = b2.SpikeMonitor(EXC, variables = [\"v\"])\n",
    "spike_monitor_PV = b2.SpikeMonitor(PV, variables = [\"v\"])"
   ]
  },
  {
   "cell_type": "code",
   "execution_count": null,
   "metadata": {},
   "outputs": [],
   "source": [
    "# I_ext_exc = get_step_current(t_start = 25, t_end = 125, unit_time = 1*b2.ms, amplitude = 0.120*b2.namp)\n",
    "# I_ext_pv = get_step_current(t_start = 25, t_end = 125, unit_time = 1*b2.ms, amplitude = 0.0*b2.namp)\n",
    "\n",
    "EXC.v = v_rest_exc\n",
    "PV.v = v_rest_pv"
   ]
  },
  {
   "cell_type": "code",
   "execution_count": null,
   "metadata": {},
   "outputs": [],
   "source": [
    "b2.run(100*b2.ms)"
   ]
  },
  {
   "cell_type": "code",
   "execution_count": null,
   "metadata": {},
   "outputs": [],
   "source": [
    "EXC.v = -20*b2.mV"
   ]
  },
  {
   "cell_type": "code",
   "execution_count": null,
   "metadata": {},
   "outputs": [],
   "source": [
    "b2.run(500*b2.ms)"
   ]
  },
  {
   "cell_type": "code",
   "execution_count": null,
   "metadata": {},
   "outputs": [],
   "source": [
    "fig = plt.figure()\n",
    "\n",
    "plt.subplot(212)\n",
    "plt.plot(voltage_monitor_PV.t / b2.ms,voltage_monitor_PV[0].v/b2.mV,'g',label='FS neuron')\n",
    "plt.legend()\n",
    "plt.grid(alpha=0.3)\n",
    "plt.ylabel('membrane voltage (mV)')\n",
    "plt.subplot(211)\n",
    "plt.plot(voltage_monitor_EXC.t / b2.ms,voltage_monitor_EXC[0].v/b2.mV,'b',label='Excitatory neuron')\n",
    "plt.legend()\n",
    "plt.grid(alpha=0.3)\n",
    "plt.ylabel('uPSP (mV)')\n",
    "plt.xlabel('time (ms)')"
   ]
  },
  {
   "cell_type": "code",
   "execution_count": null,
   "metadata": {},
   "outputs": [],
   "source": [
    "# fig.savefig('../figs/25syn_fs_exc.jpg')"
   ]
  },
  {
   "cell_type": "code",
   "execution_count": null,
   "metadata": {},
   "outputs": [],
   "source": []
  }
 ],
 "metadata": {
  "kernelspec": {
   "display_name": "Python 3",
   "language": "python",
   "name": "python3"
  },
  "language_info": {
   "codemirror_mode": {
    "name": "ipython",
    "version": 3
   },
   "file_extension": ".py",
   "mimetype": "text/x-python",
   "name": "python",
   "nbconvert_exporter": "python",
   "pygments_lexer": "ipython3",
   "version": "3.6.4"
  }
 },
 "nbformat": 4,
 "nbformat_minor": 2
}
