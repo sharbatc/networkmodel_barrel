{
 "cells": [
  {
   "cell_type": "markdown",
   "metadata": {},
   "source": [
    "# SANDBOX\n",
    "\n",
    "## This is meant to be for small experiments "
   ]
  },
  {
   "cell_type": "code",
   "execution_count": 24,
   "metadata": {},
   "outputs": [],
   "source": [
    "import brian2 as b2\n",
    "import matplotlib.pyplot as plt\n",
    "import numpy as np\n",
    "import preprocessing\n",
    "import scipy.stats as sp\n",
    "%matplotlib notebook\n",
    "\n",
    "from input_factory import create_ou_current"
   ]
  },
  {
   "cell_type": "code",
   "execution_count": 54,
   "metadata": {},
   "outputs": [],
   "source": [
    "#withspike\n",
    "a = [{\"0\": [242], \"1\": [838], \"2\": [1612], \"3\": [87], \"4\": [456], \"5\": [2894]},\n",
    "{\"0\": [242], \"1\": [845], \"2\": [1626], \"3\": [83], \"4\": [452], \"5\": [2774]},\n",
    "{\"0\": [248], \"1\": [848], \"2\": [1640], \"3\": [90], \"4\": [455], \"5\": [2969]},\n",
    "{\"0\": [239], \"1\": [843], \"2\": [1612], \"3\": [90], \"4\": [452], \"5\": [2948]},\n",
    "{\"0\": [247], \"1\": [833], \"2\": [1642], \"3\": [87], \"4\": [456], \"5\": [2954]},\n",
    "{\"0\": [246], \"1\": [835], \"2\": [1627], \"3\": [84], \"4\": [460], \"5\": [2797]},\n",
    "{\"0\": [240], \"1\": [838], \"2\": [1609], \"3\": [85], \"4\": [464], \"5\": [2868]},\n",
    "{\"0\": [246], \"1\": [836], \"2\": [1640], \"3\": [90], \"4\": [455], \"5\": [2988]},\n",
    "{\"0\": [238], \"1\": [856], \"2\": [1608], \"3\": [87], \"4\": [450], \"5\": [2945]},\n",
    "{\"0\": [245], \"1\": [834], \"2\": [1632], \"3\": [90], \"4\": [455], \"5\": [3007]},\n",
    "{\"0\": [233], \"1\": [884], \"2\": [1609], \"3\": [89], \"4\": [469], \"5\": [2958]},\n",
    "{\"0\": [241], \"1\": [843], \"2\": [1635], \"3\": [87], \"4\": [465], \"5\": [2892]},\n",
    "{\"0\": [246], \"1\": [849], \"2\": [1622], \"3\": [85], \"4\": [455], \"5\": [2854]},\n",
    "{\"0\": [248], \"1\": [834], \"2\": [1642], \"3\": [93], \"4\": [455], \"5\": [3087]},\n",
    "{\"0\": [236], \"1\": [848], \"2\": [1616], \"3\": [88], \"4\": [452], \"5\": [2970]},\n",
    "{\"0\": [242], \"1\": [856], \"2\": [1629], \"3\": [89], \"4\": [458], \"5\": [3015]},\n",
    "{\"0\": [236], \"1\": [851], \"2\": [1591], \"3\": [89], \"4\": [454], \"5\": [2966]},\n",
    "{\"0\": [241], \"1\": [840], \"2\": [1613], \"3\": [85], \"4\": [452], \"5\": [2888]},\n",
    "{\"0\": [248], \"1\": [833], \"2\": [1647], \"3\": [84], \"4\": [456], \"5\": [2804]},\n",
    "{\"0\": [236], \"1\": [849], \"2\": [1613], \"3\": [87], \"4\": [449], \"5\": [2935]},\n",
    "     {\"0\": [236], \"1\": [849], \"2\": [1613], \"3\": [87], \"4\": [449], \"5\": [2935]},\n",
    "     {\"0\": [245], \"1\": [844], \"2\": [1628], \"3\": [87], \"4\": [470], \"5\": [2914]},\n",
    "     {\"0\": [247], \"1\": [835], \"2\": [1651], \"3\": [90], \"4\": [458], \"5\": [2928]},\n",
    "     {\"0\": [240], \"1\": [840], \"2\": [1620], \"3\": [90], \"4\": [459], \"5\": [2962]},\n",
    "     {\"0\": [248], \"1\": [825], \"2\": [1641], \"3\": [87], \"4\": [458], \"5\": [2913]},\n",
    "     {\"0\": [237], \"1\": [855], \"2\": [1616], \"3\": [85], \"4\": [451], \"5\": [2866]},\n",
    "     {\"0\": [238], \"1\": [837], \"2\": [1634], \"3\": [88], \"4\": [455], \"5\": [2923]},\n",
    "     {\"0\": [246], \"1\": [830], \"2\": [1621], \"3\": [85], \"4\": [448], \"5\": [2827]},\n",
    "     {\"0\": [246], \"1\": [838], \"2\": [1631], \"3\": [88], \"4\": [459], \"5\": [2941]},\n",
    "     {\"0\": [236], \"1\": [834], \"2\": [1610], \"3\": [84], \"4\": [461], \"5\": [2798]},\n",
    "     {\"0\": [251], \"1\": [814], \"2\": [1647], \"3\": [88], \"4\": [456], \"5\": [2901]},\n",
    "     {\"0\": [238], \"1\": [829], \"2\": [1618], \"3\": [88], \"4\": [454], \"5\": [2909]},\n",
    "     {\"0\": [244], \"1\": [833], \"2\": [1620], \"3\": [85], \"4\": [440], \"5\": [2865]},\n",
    "     {\"0\": [244], \"1\": [826], \"2\": [1630], \"3\": [88], \"4\": [459], \"5\": [2936]},\n",
    "     {\"0\": [253], \"1\": [817], \"2\": [1663], \"3\": [88], \"4\": [454], \"5\": [2921]},\n",
    "     {\"0\": [245], \"1\": [856], \"2\": [1639], \"3\": [87], \"4\": [456], \"5\": [2919]},\n",
    "     {\"0\": [234], \"1\": [839], \"2\": [1620], \"3\": [87], \"4\": [456], \"5\": [2938]},\n",
    "     {\"0\": [241], \"1\": [844], \"2\": [1611], \"3\": [88], \"4\": [458], \"5\": [2969]},\n",
    "     {\"0\": [243], \"1\": [842], \"2\": [1615], \"3\": [85], \"4\": [455], \"5\": [2886]},\n",
    "     {\"0\": [226], \"1\": [855], \"2\": [1608], \"3\": [90], \"4\": [455], \"5\": [2975]},\n",
    "     {\"0\": [253], \"1\": [836], \"2\": [1643], \"3\": [86], \"4\": [469], \"5\": [2879]},\n",
    "     {\"0\": [242], \"1\": [832], \"2\": [1638], \"3\": [85], \"4\": [454], \"5\": [2856]},\n",
    "     {\"0\": [242], \"1\": [850], \"2\": [1628], \"3\": [88], \"4\": [456], \"5\": [2918]},\n",
    "     {\"0\": [237], \"1\": [847], \"2\": [1634], \"3\": [85], \"4\": [452], \"5\": [2814]},\n",
    "     {\"0\": [241], \"1\": [856], \"2\": [1624], \"3\": [86], \"4\": [465], \"5\": [2896]},\n",
    "     {\"0\": [237], \"1\": [842], \"2\": [1617], \"3\": [89], \"4\": [469], \"5\": [2971]}]"
   ]
  },
  {
   "cell_type": "code",
   "execution_count": 66,
   "metadata": {},
   "outputs": [
    {
     "data": {
      "text/plain": [
       "(45,)"
      ]
     },
     "execution_count": 66,
     "metadata": {},
     "output_type": "execute_result"
    }
   ],
   "source": [
    "np.shape(b)"
   ]
  },
  {
   "cell_type": "code",
   "execution_count": 56,
   "metadata": {},
   "outputs": [],
   "source": [
    "#withoutspike\n",
    "b = [{\"0\": [244], \"1\": [840], \"2\": [1613], \"3\": [87], \"4\": [457], \"5\": [2889]},\n",
    "{\"0\": [242], \"1\": [844], \"2\": [1624], \"3\": [85], \"4\": [452], \"5\": [2851]},\n",
    "{\"0\": [248], \"1\": [845], \"2\": [1643], \"3\": [91], \"4\": [454], \"5\": [2993]},\n",
    "{\"0\": [240], \"1\": [841], \"2\": [1622], \"3\": [90], \"4\": [452], \"5\": [2942]},\n",
    "{\"0\": [248], \"1\": [837], \"2\": [1645], \"3\": [86], \"4\": [455], \"5\": [2910]},\n",
    "{\"0\": [248], \"1\": [841], \"2\": [1629], \"3\": [82], \"4\": [459], \"5\": [2752]},\n",
    "{\"0\": [237], \"1\": [845], \"2\": [1604], \"3\": [83], \"4\": [464], \"5\": [2800]},\n",
    "{\"0\": [245], \"1\": [831], \"2\": [1637], \"3\": [87], \"4\": [455], \"5\": [2895]},\n",
    "{\"0\": [241], \"1\": [850], \"2\": [1623], \"3\": [89], \"4\": [450], \"5\": [2986]},\n",
    "{\"0\": [244], \"1\": [837], \"2\": [1631], \"3\": [89], \"4\": [455], \"5\": [2976]},\n",
    "{\"0\": [230], \"1\": [881], \"2\": [1606], \"3\": [86], \"4\": [469], \"5\": [2906]},\n",
    "{\"0\": [237], \"1\": [846], \"2\": [1621], \"3\": [86], \"4\": [465], \"5\": [2856]},\n",
    "{\"0\": [247], \"1\": [848], \"2\": [1621], \"3\": [85], \"4\": [455], \"5\": [2850]},\n",
    "{\"0\": [247], \"1\": [833], \"2\": [1636], \"3\": [89], \"4\": [455], \"5\": [3007]},\n",
    "{\"0\": [237], \"1\": [847], \"2\": [1617], \"3\": [88], \"4\": [453], \"5\": [2964]},\n",
    "{\"0\": [234], \"1\": [859], \"2\": [1612], \"3\": [87], \"4\": [459], \"5\": [2940]},\n",
    "{\"0\": [233], \"1\": [851], \"2\": [1584], \"3\": [86], \"4\": [454], \"5\": [2922]},\n",
    "{\"0\": [243], \"1\": [839], \"2\": [1615], \"3\": [87], \"4\": [453], \"5\": [2935]},\n",
    "{\"0\": [246], \"1\": [831], \"2\": [1647], \"3\": [87], \"4\": [456], \"5\": [2863]},\n",
    "{\"0\": [235], \"1\": [849], \"2\": [1618], \"3\": [85], \"4\": [447], \"5\": [2900]},\n",
    "{\"0\": [250], \"1\": [842], \"2\": [1637], \"3\": [84], \"4\": [469], \"5\": [2824]},\n",
    "     {\"0\": [251], \"1\": [831], \"2\": [1650], \"3\": [94], \"4\": [458], \"5\": [3025]},\n",
    "     {\"0\": [242], \"1\": [841], \"2\": [1623], \"3\": [90], \"4\": [462], \"5\": [2975]},\n",
    "     {\"0\": [248], \"1\": [820], \"2\": [1635], \"3\": [86], \"4\": [457], \"5\": [2871]},\n",
    "     {\"0\": [236], \"1\": [859], \"2\": [1610], \"3\": [84], \"4\": [451], \"5\": [2812]},\n",
    "     {\"0\": [244], \"1\": [836], \"2\": [1640], \"3\": [87], \"4\": [455], \"5\": [2922]},\n",
    "     {\"0\": [245], \"1\": [825], \"2\": [1623], \"3\": [86], \"4\": [447], \"5\": [2840]},\n",
    "     {\"0\": [244], \"1\": [837], \"2\": [1623], \"3\": [86], \"4\": [456], \"5\": [2903]},\n",
    "     {\"0\": [237], \"1\": [835], \"2\": [1615], \"3\": [85], \"4\": [461], \"5\": [2834]},\n",
    "     {\"0\": [254], \"1\": [814], \"2\": [1645], \"3\": [87], \"4\": [456], \"5\": [2895]},\n",
    "     {\"0\": [233], \"1\": [837], \"2\": [1604], \"3\": [86], \"4\": [454], \"5\": [2867]},\n",
    "     {\"0\": [249], \"1\": [825], \"2\": [1638], \"3\": [82], \"4\": [439], \"5\": [2796]},\n",
    "     {\"0\": [244], \"1\": [821], \"2\": [1623], \"3\": [89], \"4\": [459], \"5\": [2993]},\n",
    "     {\"0\": [254], \"1\": [816], \"2\": [1665], \"3\": [89], \"4\": [453], \"5\": [2942]},\n",
    "     {\"0\": [248], \"1\": [854], \"2\": [1637], \"3\": [88], \"4\": [457], \"5\": [2934]},\n",
    "     {\"0\": [230], \"1\": [843], \"2\": [1616], \"3\": [86], \"4\": [455], \"5\": [2942]},\n",
    "     {\"0\": [241], \"1\": [847], \"2\": [1609], \"3\": [86], \"4\": [458], \"5\": [2916]},\n",
    "     {\"0\": [244], \"1\": [840], \"2\": [1618], \"3\": [87], \"4\": [456], \"5\": [2957]},\n",
    "     {\"0\": [227], \"1\": [854], \"2\": [1607], \"3\": [89], \"4\": [456], \"5\": [2935]},\n",
    "     {\"0\": [252], \"1\": [836], \"2\": [1644], \"3\": [85], \"4\": [469], \"5\": [2853]},\n",
    "     {\"0\": [242], \"1\": [836], \"2\": [1636], \"3\": [88], \"4\": [457], \"5\": [2948]},\n",
    "     {\"0\": [241], \"1\": [846], \"2\": [1625], \"3\": [90], \"4\": [456], \"5\": [2969]},\n",
    "     {\"0\": [234], \"1\": [844], \"2\": [1623], \"3\": [85], \"4\": [453], \"5\": [2801]},\n",
    "     {\"0\": [246], \"1\": [850], \"2\": [1634], \"3\": [87], \"4\": [464], \"5\": [2918]},\n",
    "     {\"0\": [243], \"1\": [840], \"2\": [1635], \"3\": [88], \"4\": [469], \"5\": [2953]}]"
   ]
  },
  {
   "cell_type": "code",
   "execution_count": 67,
   "metadata": {},
   "outputs": [],
   "source": [
    "a = a[1:]"
   ]
  },
  {
   "cell_type": "code",
   "execution_count": 74,
   "metadata": {},
   "outputs": [
    {
     "name": "stdout",
     "output_type": "stream",
     "text": [
      "WilcoxonResult(statistic=454.5, pvalue=0.47698092541718196)\n"
     ]
    }
   ],
   "source": [
    "x = []\n",
    "y = []\n",
    "for i in np.arange(0,45,1) :\n",
    "    x.append(a[i]['5'][0])\n",
    "    y.append(b[i]['5'][0])\n",
    "\n",
    "print(sp.wilcoxon(x,y))"
   ]
  },
  {
   "cell_type": "code",
   "execution_count": 2,
   "metadata": {},
   "outputs": [],
   "source": [
    "I_exc = create_ou_current(3,2000,Delta_sigma=4.0,sigma_0=10.0)\n",
    "I_fs = create_ou_current(15,250,Delta_sigma=10.0,sigma_0=10.0)\n",
    "I_nfs = create_ou_current(1,250,Delta_sigma=2.0,sigma_0=10.0)"
   ]
  },
  {
   "cell_type": "code",
   "execution_count": 3,
   "metadata": {},
   "outputs": [],
   "source": [
    "np.savetxt('Iexc.txt',I_exc)\n",
    "np.savetxt('Ifs.txt',I_fs)\n",
    "np.savetxt('Infs.txt',I_nfs)"
   ]
  },
  {
   "cell_type": "code",
   "execution_count": 4,
   "metadata": {},
   "outputs": [],
   "source": [
    "eqs = '''\n",
    "dv/dt = -v/tau : 1\n",
    "'''\n",
    "tau = 4 *b2.ms\n",
    "G1 = b2.NeuronGroup(10, eqs,threshold='v>4',reset=3.5)\n",
    "G2 = b2.NeuronGroup(10,eqs,threshold='v>4',reset=3.5)\n",
    "S = b2.Synapses(G1,G2, 'w : 1',on_pre='v+=w')\n",
    "S.connect(p=1)\n",
    "S.w = 2\n",
    "\n",
    "\n",
    "M1 = b2.StateMonitor(G1, 'v', record=True)\n",
    "M2 = b2.StateMonitor(G2, 'v', record=True)\n",
    "S1 = b2.SpikeMonitor(G1)\n",
    "S2 = b2.SpikeMonitor(G2)\n",
    "# I_new = np.loadtxt('I.txt') * b2.namp\n",
    "# I = b2.TimedArray(I_new, dt = 1.*b2.ms)"
   ]
  },
  {
   "cell_type": "code",
   "execution_count": 5,
   "metadata": {},
   "outputs": [
    {
     "name": "stderr",
     "output_type": "stream",
     "text": [
      "INFO       No numerical integration method specified for group 'neurongroup_1', using method 'exact' (took 0.09s). [brian2.stateupdaters.base.method_choice]\n",
      "INFO       No numerical integration method specified for group 'neurongroup', using method 'exact' (took 0.02s). [brian2.stateupdaters.base.method_choice]\n"
     ]
    },
    {
     "ename": "BrianObjectException",
     "evalue": "Original error and traceback:\nTraceback (most recent call last):\n  File \"/anaconda3/lib/python3.6/site-packages/brian2/core/network.py\", line 841, in before_run\n    obj.before_run(run_namespace)\n  File \"/anaconda3/lib/python3.6/site-packages/brian2/groups/group.py\", line 1079, in before_run\n    self.update_abstract_code(run_namespace=run_namespace)\n  File \"/anaconda3/lib/python3.6/site-packages/brian2/groups/neurongroup.py\", line 308, in update_abstract_code\n    raise TypeError(error_msg)\nTypeError: Reset statement has to be a string, not <class 'float'>. Probably you intended to use 'v = ...'?\n\nError encountered with object named \"neurongroup_1_resetter\".\nObject was created here (most recent call only, full details in debug log):\n  File \"<ipython-input-4-066bca9eb0de>\", line 6, in <module>\n    G2 = b2.NeuronGroup(10,eqs,threshold='v>4',reset=3.5)\n\nAn error occurred when preparing an object. TypeError: Reset statement has to be a string, not <class 'float'>. Probably you intended to use 'v = ...'?\n(See above for original error message and traceback.)",
     "output_type": "error",
     "traceback": [
      "\u001b[0;31m---------------------------------------------------------------------------\u001b[0m",
      "\u001b[0;31mTypeError\u001b[0m                                 Traceback (most recent call last)",
      "\u001b[0;32m/anaconda3/lib/python3.6/site-packages/brian2/core/network.py\u001b[0m in \u001b[0;36mbefore_run\u001b[0;34m(self, run_namespace)\u001b[0m\n\u001b[1;32m    840\u001b[0m                 \u001b[0;32mtry\u001b[0m\u001b[0;34m:\u001b[0m\u001b[0;34m\u001b[0m\u001b[0m\n\u001b[0;32m--> 841\u001b[0;31m                     \u001b[0mobj\u001b[0m\u001b[0;34m.\u001b[0m\u001b[0mbefore_run\u001b[0m\u001b[0;34m(\u001b[0m\u001b[0mrun_namespace\u001b[0m\u001b[0;34m)\u001b[0m\u001b[0;34m\u001b[0m\u001b[0m\n\u001b[0m\u001b[1;32m    842\u001b[0m                 \u001b[0;32mexcept\u001b[0m \u001b[0mException\u001b[0m \u001b[0;32mas\u001b[0m \u001b[0mex\u001b[0m\u001b[0;34m:\u001b[0m\u001b[0;34m\u001b[0m\u001b[0m\n",
      "\u001b[0;32m/anaconda3/lib/python3.6/site-packages/brian2/groups/group.py\u001b[0m in \u001b[0;36mbefore_run\u001b[0;34m(self, run_namespace)\u001b[0m\n\u001b[1;32m   1078\u001b[0m     \u001b[0;32mdef\u001b[0m \u001b[0mbefore_run\u001b[0m\u001b[0;34m(\u001b[0m\u001b[0mself\u001b[0m\u001b[0;34m,\u001b[0m \u001b[0mrun_namespace\u001b[0m\u001b[0;34m)\u001b[0m\u001b[0;34m:\u001b[0m\u001b[0;34m\u001b[0m\u001b[0m\n\u001b[0;32m-> 1079\u001b[0;31m         \u001b[0mself\u001b[0m\u001b[0;34m.\u001b[0m\u001b[0mupdate_abstract_code\u001b[0m\u001b[0;34m(\u001b[0m\u001b[0mrun_namespace\u001b[0m\u001b[0;34m=\u001b[0m\u001b[0mrun_namespace\u001b[0m\u001b[0;34m)\u001b[0m\u001b[0;34m\u001b[0m\u001b[0m\n\u001b[0m\u001b[1;32m   1080\u001b[0m         \u001b[0;31m# If the CodeRunner has variables, add them\u001b[0m\u001b[0;34m\u001b[0m\u001b[0;34m\u001b[0m\u001b[0m\n",
      "\u001b[0;32m/anaconda3/lib/python3.6/site-packages/brian2/groups/neurongroup.py\u001b[0m in \u001b[0;36mupdate_abstract_code\u001b[0;34m(self, run_namespace)\u001b[0m\n\u001b[1;32m    307\u001b[0m                     \u001b[0merror_msg\u001b[0m \u001b[0;34m+=\u001b[0m \u001b[0;34m\" Probably you intended to use '%s = ...'?\"\u001b[0m \u001b[0;34m%\u001b[0m \u001b[0mvm_var\u001b[0m\u001b[0;34m\u001b[0m\u001b[0m\n\u001b[0;32m--> 308\u001b[0;31m             \u001b[0;32mraise\u001b[0m \u001b[0mTypeError\u001b[0m\u001b[0;34m(\u001b[0m\u001b[0merror_msg\u001b[0m\u001b[0;34m)\u001b[0m\u001b[0;34m\u001b[0m\u001b[0m\n\u001b[0m\u001b[1;32m    309\u001b[0m \u001b[0;34m\u001b[0m\u001b[0m\n",
      "\u001b[0;31mTypeError\u001b[0m: Reset statement has to be a string, not <class 'float'>. Probably you intended to use 'v = ...'?",
      "\nDuring handling of the above exception, another exception occurred:\n",
      "\u001b[0;31mBrianObjectException\u001b[0m                      Traceback (most recent call last)",
      "\u001b[0;32m<ipython-input-5-5fb227bce681>\u001b[0m in \u001b[0;36m<module>\u001b[0;34m()\u001b[0m\n\u001b[1;32m      2\u001b[0m \u001b[0mG1\u001b[0m\u001b[0;34m.\u001b[0m\u001b[0mv\u001b[0m \u001b[0;34m=\u001b[0m \u001b[0;36m4.5\u001b[0m\u001b[0;34m\u001b[0m\u001b[0m\n\u001b[1;32m      3\u001b[0m \u001b[0mG2\u001b[0m\u001b[0;34m.\u001b[0m\u001b[0mv\u001b[0m \u001b[0;34m=\u001b[0m \u001b[0;36m4.5\u001b[0m\u001b[0;34m\u001b[0m\u001b[0m\n\u001b[0;32m----> 4\u001b[0;31m \u001b[0mG_net\u001b[0m\u001b[0;34m.\u001b[0m\u001b[0mrun\u001b[0m\u001b[0;34m(\u001b[0m\u001b[0;36m15\u001b[0m\u001b[0;34m*\u001b[0m\u001b[0mb2\u001b[0m\u001b[0;34m.\u001b[0m\u001b[0mms\u001b[0m\u001b[0;34m)\u001b[0m\u001b[0;34m\u001b[0m\u001b[0m\n\u001b[0m",
      "\u001b[0;32m/anaconda3/lib/python3.6/site-packages/brian2/core/base.py\u001b[0m in \u001b[0;36mdevice_override_decorated_function\u001b[0;34m(*args, **kwds)\u001b[0m\n\u001b[1;32m    276\u001b[0m                 \u001b[0;32mreturn\u001b[0m \u001b[0mgetattr\u001b[0m\u001b[0;34m(\u001b[0m\u001b[0mcurdev\u001b[0m\u001b[0;34m,\u001b[0m \u001b[0mname\u001b[0m\u001b[0;34m)\u001b[0m\u001b[0;34m(\u001b[0m\u001b[0;34m*\u001b[0m\u001b[0margs\u001b[0m\u001b[0;34m,\u001b[0m \u001b[0;34m**\u001b[0m\u001b[0mkwds\u001b[0m\u001b[0;34m)\u001b[0m\u001b[0;34m\u001b[0m\u001b[0m\n\u001b[1;32m    277\u001b[0m             \u001b[0;32melse\u001b[0m\u001b[0;34m:\u001b[0m\u001b[0;34m\u001b[0m\u001b[0m\n\u001b[0;32m--> 278\u001b[0;31m                 \u001b[0;32mreturn\u001b[0m \u001b[0mfunc\u001b[0m\u001b[0;34m(\u001b[0m\u001b[0;34m*\u001b[0m\u001b[0margs\u001b[0m\u001b[0;34m,\u001b[0m \u001b[0;34m**\u001b[0m\u001b[0mkwds\u001b[0m\u001b[0;34m)\u001b[0m\u001b[0;34m\u001b[0m\u001b[0m\n\u001b[0m\u001b[1;32m    279\u001b[0m \u001b[0;34m\u001b[0m\u001b[0m\n\u001b[1;32m    280\u001b[0m         \u001b[0mdevice_override_decorated_function\u001b[0m\u001b[0;34m.\u001b[0m\u001b[0m__doc__\u001b[0m \u001b[0;34m=\u001b[0m \u001b[0mfunc\u001b[0m\u001b[0;34m.\u001b[0m\u001b[0m__doc__\u001b[0m\u001b[0;34m\u001b[0m\u001b[0m\n",
      "\u001b[0;32m/anaconda3/lib/python3.6/site-packages/brian2/units/fundamentalunits.py\u001b[0m in \u001b[0;36mnew_f\u001b[0;34m(*args, **kwds)\u001b[0m\n\u001b[1;32m   2358\u001b[0m                                                      get_dimensions(newkeyset[k]))\n\u001b[1;32m   2359\u001b[0m \u001b[0;34m\u001b[0m\u001b[0m\n\u001b[0;32m-> 2360\u001b[0;31m             \u001b[0mresult\u001b[0m \u001b[0;34m=\u001b[0m \u001b[0mf\u001b[0m\u001b[0;34m(\u001b[0m\u001b[0;34m*\u001b[0m\u001b[0margs\u001b[0m\u001b[0;34m,\u001b[0m \u001b[0;34m**\u001b[0m\u001b[0mkwds\u001b[0m\u001b[0;34m)\u001b[0m\u001b[0;34m\u001b[0m\u001b[0m\n\u001b[0m\u001b[1;32m   2361\u001b[0m             \u001b[0;32mif\u001b[0m \u001b[0;34m'result'\u001b[0m \u001b[0;32min\u001b[0m \u001b[0mau\u001b[0m\u001b[0;34m:\u001b[0m\u001b[0;34m\u001b[0m\u001b[0m\n\u001b[1;32m   2362\u001b[0m                 \u001b[0;32mif\u001b[0m \u001b[0mau\u001b[0m\u001b[0;34m[\u001b[0m\u001b[0;34m'result'\u001b[0m\u001b[0;34m]\u001b[0m \u001b[0;34m==\u001b[0m \u001b[0mbool\u001b[0m\u001b[0;34m:\u001b[0m\u001b[0;34m\u001b[0m\u001b[0m\n",
      "\u001b[0;32m/anaconda3/lib/python3.6/site-packages/brian2/core/network.py\u001b[0m in \u001b[0;36mrun\u001b[0;34m(self, duration, report, report_period, namespace, profile, level)\u001b[0m\n\u001b[1;32m    949\u001b[0m             \u001b[0mnamespace\u001b[0m \u001b[0;34m=\u001b[0m \u001b[0mget_local_namespace\u001b[0m\u001b[0;34m(\u001b[0m\u001b[0mlevel\u001b[0m\u001b[0;34m=\u001b[0m\u001b[0mlevel\u001b[0m\u001b[0;34m+\u001b[0m\u001b[0;36m3\u001b[0m\u001b[0;34m)\u001b[0m\u001b[0;34m\u001b[0m\u001b[0m\n\u001b[1;32m    950\u001b[0m \u001b[0;34m\u001b[0m\u001b[0m\n\u001b[0;32m--> 951\u001b[0;31m         \u001b[0mself\u001b[0m\u001b[0;34m.\u001b[0m\u001b[0mbefore_run\u001b[0m\u001b[0;34m(\u001b[0m\u001b[0mnamespace\u001b[0m\u001b[0;34m)\u001b[0m\u001b[0;34m\u001b[0m\u001b[0m\n\u001b[0m\u001b[1;32m    952\u001b[0m \u001b[0;34m\u001b[0m\u001b[0m\n\u001b[1;32m    953\u001b[0m         \u001b[0;32mif\u001b[0m \u001b[0mlen\u001b[0m\u001b[0;34m(\u001b[0m\u001b[0mself\u001b[0m\u001b[0;34m.\u001b[0m\u001b[0mobjects\u001b[0m\u001b[0;34m)\u001b[0m\u001b[0;34m==\u001b[0m\u001b[0;36m0\u001b[0m\u001b[0;34m:\u001b[0m\u001b[0;34m\u001b[0m\u001b[0m\n",
      "\u001b[0;32m/anaconda3/lib/python3.6/site-packages/brian2/core/base.py\u001b[0m in \u001b[0;36mdevice_override_decorated_function\u001b[0;34m(*args, **kwds)\u001b[0m\n\u001b[1;32m    276\u001b[0m                 \u001b[0;32mreturn\u001b[0m \u001b[0mgetattr\u001b[0m\u001b[0;34m(\u001b[0m\u001b[0mcurdev\u001b[0m\u001b[0;34m,\u001b[0m \u001b[0mname\u001b[0m\u001b[0;34m)\u001b[0m\u001b[0;34m(\u001b[0m\u001b[0;34m*\u001b[0m\u001b[0margs\u001b[0m\u001b[0;34m,\u001b[0m \u001b[0;34m**\u001b[0m\u001b[0mkwds\u001b[0m\u001b[0;34m)\u001b[0m\u001b[0;34m\u001b[0m\u001b[0m\n\u001b[1;32m    277\u001b[0m             \u001b[0;32melse\u001b[0m\u001b[0;34m:\u001b[0m\u001b[0;34m\u001b[0m\u001b[0m\n\u001b[0;32m--> 278\u001b[0;31m                 \u001b[0;32mreturn\u001b[0m \u001b[0mfunc\u001b[0m\u001b[0;34m(\u001b[0m\u001b[0;34m*\u001b[0m\u001b[0margs\u001b[0m\u001b[0;34m,\u001b[0m \u001b[0;34m**\u001b[0m\u001b[0mkwds\u001b[0m\u001b[0;34m)\u001b[0m\u001b[0;34m\u001b[0m\u001b[0m\n\u001b[0m\u001b[1;32m    279\u001b[0m \u001b[0;34m\u001b[0m\u001b[0m\n\u001b[1;32m    280\u001b[0m         \u001b[0mdevice_override_decorated_function\u001b[0m\u001b[0;34m.\u001b[0m\u001b[0m__doc__\u001b[0m \u001b[0;34m=\u001b[0m \u001b[0mfunc\u001b[0m\u001b[0;34m.\u001b[0m\u001b[0m__doc__\u001b[0m\u001b[0;34m\u001b[0m\u001b[0m\n",
      "\u001b[0;32m/anaconda3/lib/python3.6/site-packages/brian2/core/network.py\u001b[0m in \u001b[0;36mbefore_run\u001b[0;34m(self, run_namespace)\u001b[0m\n\u001b[1;32m    841\u001b[0m                     \u001b[0mobj\u001b[0m\u001b[0;34m.\u001b[0m\u001b[0mbefore_run\u001b[0m\u001b[0;34m(\u001b[0m\u001b[0mrun_namespace\u001b[0m\u001b[0;34m)\u001b[0m\u001b[0;34m\u001b[0m\u001b[0m\n\u001b[1;32m    842\u001b[0m                 \u001b[0;32mexcept\u001b[0m \u001b[0mException\u001b[0m \u001b[0;32mas\u001b[0m \u001b[0mex\u001b[0m\u001b[0;34m:\u001b[0m\u001b[0;34m\u001b[0m\u001b[0m\n\u001b[0;32m--> 843\u001b[0;31m                     \u001b[0;32mraise\u001b[0m \u001b[0mbrian_object_exception\u001b[0m\u001b[0;34m(\u001b[0m\u001b[0;34m\"An error occurred when preparing an object.\"\u001b[0m\u001b[0;34m,\u001b[0m \u001b[0mobj\u001b[0m\u001b[0;34m,\u001b[0m \u001b[0mex\u001b[0m\u001b[0;34m)\u001b[0m\u001b[0;34m\u001b[0m\u001b[0m\n\u001b[0m\u001b[1;32m    844\u001b[0m \u001b[0;34m\u001b[0m\u001b[0m\n\u001b[1;32m    845\u001b[0m         \u001b[0;31m# Check that no object has been run as part of another network before\u001b[0m\u001b[0;34m\u001b[0m\u001b[0;34m\u001b[0m\u001b[0m\n",
      "\u001b[0;31mBrianObjectException\u001b[0m: Original error and traceback:\nTraceback (most recent call last):\n  File \"/anaconda3/lib/python3.6/site-packages/brian2/core/network.py\", line 841, in before_run\n    obj.before_run(run_namespace)\n  File \"/anaconda3/lib/python3.6/site-packages/brian2/groups/group.py\", line 1079, in before_run\n    self.update_abstract_code(run_namespace=run_namespace)\n  File \"/anaconda3/lib/python3.6/site-packages/brian2/groups/neurongroup.py\", line 308, in update_abstract_code\n    raise TypeError(error_msg)\nTypeError: Reset statement has to be a string, not <class 'float'>. Probably you intended to use 'v = ...'?\n\nError encountered with object named \"neurongroup_1_resetter\".\nObject was created here (most recent call only, full details in debug log):\n  File \"<ipython-input-4-066bca9eb0de>\", line 6, in <module>\n    G2 = b2.NeuronGroup(10,eqs,threshold='v>4',reset=3.5)\n\nAn error occurred when preparing an object. TypeError: Reset statement has to be a string, not <class 'float'>. Probably you intended to use 'v = ...'?\n(See above for original error message and traceback.)"
     ]
    }
   ],
   "source": [
    "G_net = b2.Network(G1,G2,S)\n",
    "G1.v = 4.5\n",
    "G2.v = 4.5\n",
    "G_net.run(15*b2.ms)"
   ]
  },
  {
   "cell_type": "code",
   "execution_count": null,
   "metadata": {},
   "outputs": [],
   "source": [
    "fig = plt.figure()\n",
    "plt.plot(M1.t/b2.ms, M1.v[1])\n",
    "plt.xlabel('Time (ms)')\n",
    "plt.ylabel('v')"
   ]
  },
  {
   "cell_type": "code",
   "execution_count": null,
   "metadata": {},
   "outputs": [],
   "source": [
    "G_net.store('4 sec')"
   ]
  },
  {
   "cell_type": "code",
   "execution_count": null,
   "metadata": {},
   "outputs": [],
   "source": [
    "import params"
   ]
  }
 ],
 "metadata": {
  "kernelspec": {
   "display_name": "Python 3",
   "language": "python",
   "name": "python3"
  },
  "language_info": {
   "codemirror_mode": {
    "name": "ipython",
    "version": 3
   },
   "file_extension": ".py",
   "mimetype": "text/x-python",
   "name": "python",
   "nbconvert_exporter": "python",
   "pygments_lexer": "ipython3",
   "version": "3.6.4"
  }
 },
 "nbformat": 4,
 "nbformat_minor": 2
}
